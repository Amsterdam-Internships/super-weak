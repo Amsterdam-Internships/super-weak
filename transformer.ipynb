{
 "cells": [
  {
   "cell_type": "code",
   "execution_count": 1,
   "id": "5262df5b-9a32-447e-b56d-1d4d6c930c26",
   "metadata": {},
   "outputs": [],
   "source": [
    "from googletrans import Translator\n",
    "import json\n",
    "\n",
    "json_path = \"data/geonames.json\"\n",
    "target_path = \"data/trans_geonames.json\"\n",
    "\n",
    "#this thing will translate any JSON file you specify\n",
    "\n",
    "#constraints - googletrans lib will only accept 15k characters at a time..."
   ]
  },
  {
   "cell_type": "code",
   "execution_count": 64,
   "id": "d43f9149-d4ee-40b4-a3ae-180582dbde30",
   "metadata": {},
   "outputs": [
    {
     "name": "stdout",
     "output_type": "stream",
     "text": [
      "match:  Provincie Noord-Holland\n"
     ]
    }
   ],
   "source": [
    "#load file into python list\n",
    "with open(json_path, 'r') as json_file:\n",
    "    content = json.loads(json_file.read())[\"GPE\"]\n",
    "\n",
    "string = \"Noord-Holland\"\n",
    "for token in content:\n",
    "    if string in token:\n",
    "        print(\"match: \", token)\n",
    "\n",
    "# #function that combines tokens from content list into strings of max length 15k tokens\n",
    "# def stringify(tokens: list, counter = 0):\n",
    "#     output = []\n",
    "#     temp = \"\"\n",
    "#     temp_len = 0\n",
    "#     while temp_len < 15000 and counter < len(tokens):\n",
    "#         token = tokens[counter]\n",
    "#         token_len = len(token)\n",
    "#         if temp_len + token_len > 15000:\n",
    "#             break\n",
    "#         else:\n",
    "#             if temp_len > 0:\n",
    "#                 temp = temp + \", \" + token\n",
    "#             else:\n",
    "#                 temp = token\n",
    "#             temp_len += len(token)\n",
    "#             counter += 1\n",
    "\n",
    "#     return temp, counter\n",
    "        \n",
    "# def stringify_all(tokens: list, counter = 0):\n",
    "#     output = []\n",
    "#     while counter < len(tokens):\n",
    "#         string, counter = stringify(tokens, counter)\n",
    "#         output.append(string)\n",
    "    \n",
    "#     return output\n",
    "        \n",
    "# stuff = stringify_all(content)\n",
    "\n",
    "# #now let's translate it\n",
    "# translator = Translator()\n",
    "# translations = translator.translate(stuff, src = \"EN\", dest = \"NL\")"
   ]
  },
  {
   "cell_type": "code",
   "execution_count": 58,
   "id": "b9a12972-fec4-45d1-9973-4491e9a3d8de",
   "metadata": {},
   "outputs": [
    {
     "name": "stdout",
     "output_type": "stream",
     "text": [
      "'s-Hertogenbosch, //Khara Hais, 7 Aguas, A Coruña, ABC islands, Aachen, Aalborg, Aba, Abadan, Abaetetuba, Abakaliki, Abakan, Abaqulusi, Abbeville, Abbotsford, Abbottabad, Abengourou, Abeokuta, Aberdeen, Aberdeen City, Aberdeenshire, Abha, Abhar, Abia State, Abidjan, Abiko, Abiko-shi, Abilene, Abitibi-Témiscamingue, Abkhazia, Abobo, Abohar, Abomey-Calavi, Abra, Abruzzo, Abs, Absheron Economic, Absheron Economic Region, Absheron Rayon, Abu Dhabi, Abu Dhabi Municipality, Abu Ghraib, Abu Ghraib District, Abuja, Abū Ghurayb, Abū Kabīr, Abū Z̧aby, Acadiana, Acapulco de Juárez, Acarigua, Accra, Achalpur, Acheng, Acheng Shi, Achhām, Achinsk, Acilia-Castel Fusano-Ostia Antica, Acre, Acul du Nord, Ad Dīwānīyah, Ad-Damazin, Ada, Ada County, Adamaoua, Adamaoua Region, Adamawa State, Adams, Adams County, Adana, Adansi North, Adansi South, Adapazarı, Addis Ababa, Adelaide, Aden, Adiwerna, Administrative 3, Administrative Zone 3, Admiralteisky, Ado-Ekiti, Adrar, Adıyaman, Aegean, Aegean Region, Afar, Afar Region, Afghanistan, Afigya-Kwabre, Afigya-Kwabre District, Africa, Afyonkarahisar, Agadez, Agadir, Agadir-Ida-ou-Tnan, Aganang, Agartala, Agdal, Agen, Ageo Shi, Ageoshimo, Aghdam Rayon, Aghjabadi Rayon, Agnéby-Tiassa, Agona East, Agona West, Agra, Agrigento, Aguascalientes, Agusan del Norte, Agusan del Sur, Ahafo Ano South, Ahal, Ahanta West, Ahar, Ahmadnagar, Ahmadpur East, Ahmadābād, Ahmedabad, Ahrweiler, Ahuachapán, Ahvaz, Aichach-Friedberg, Aichi-ken, Aiken, Aiken County, Ain-Chock, Ain-Sebaa, Airoli, Ait Melloul, Aix-en-Provence, Aizawl, Aizu-wakamatsu Shi, Ajaria, Ajdabiya, Ajitgarh, Ajman, Ajman City, Ajmer, Akademicheskoe, Akashi, Akashi Shi, Akatsi, Akatsi District, Akdeniz, Akershus fylke, Akhisar İlçesi, Akishima-shi, Akita, Akita Shi, Aklan, Akola, Akoupé, Akron, Aksaray, Aksu, Aktau, Aktobe, Aktyubinskaya Oblast’, Akuapim North, Akure, Akwa Ibom State, Akyemansa, Akçaabat, Al Ain Municipality, Al Ajaylat, Al Asimah Governorate, Al Aḩmadī, Al Batinah South Governorate, Al Bayda Governorate, Al Başrah al Qadīmah, Al Buţnān, Al Bāb, Al Dhafra, Al Dhihar, Al Fallūjah, Al Fayyūm, Al Fujairah Municipality, Al Fujayrah, Al Fāw, Al Hada, Al Hali, Al Hawak, Al Hoceïma, Al Hufūf, Al Jabal al Akhḑar, Al Jadīd, Al Jafārah, Al Jawf, Al Jazirah State, Al Jubayl, Al Karak, Al Khalil, Al Kharj, Al Khums, Al Kūt, Al Ma'afer, Al Madīnah al Munawwarah, Al Mafraq, Al Maghrib, Al Mahrah, Al Makhādir, Al Mansura, Al Manāmah, Al Manāqil, Al Manşūrah, Al Marawi'ah, Al Marqab, Al Mashannah, Al Mawasit, Al Mawşil al Jadīdah, Al Maḩallah al Kubrá, Al Maḩwīt, Al Minyā, Al Minţaqah ash Sharqīyah, Al Misrakh, Al Mubarraz, Al Mudhaffar, Al Mukalla, Al Qadarif, Al Qadarif State, Al Qafr, Al Qahirah, Al Quds, Al Wāḩāt, Al Ḩawāmidīyah, Al Ḩillah, Al Ḩudaydah, Al ‘Amārah, Al ‘Udayn, Al-Fida, Al-Haouz, Al-Hasakah Governorate, Al-Hoceima, Al-Qassim Province, Al-Shahaniya, Alaba Special Wereda, Alabama, Alachua, Alachua County, Alagoas, Alagoinhas, Alajuela, Alamance, Alamance County, Alamar, Alameda, Alameda County, Alandur, Alanya, Alaotra Mangoro, Alaotra Mangoro Region, Alappuzha, Alaska, Alb-Donau-Kreis, Alba, Albacete, Albania, Albany, Albany County, Albay, Albert Luthuli, Alberta, Alberton, Albertville, Albi, Alborz, Albuquerque, Albury-Wodonga, Alcalá de Henares, Alchevs’k, Alchevs’ka Mis’krada, Alcobendas, Alcorcón, Aleppo, Aleppo Governorate, Alessandria, Alexandria, Alfred Nzo District Municipality, Alfred Nzo Municipality, Algarve, Algeciras, Algeria, Algiers, Algoma, Alhambra, Alibori, Alicante, Alipurduar, Allahābād, Allegan, Allegan County, Allegheny, Allegheny County, Allen, Allen County, Allentown, Alluheyah, Almada, Almaty, Almaty Oblysy, Almere Stad, Almería, Almirante Tamandaré, Almora, Alor Setar, Alpes-Maritimes, Alpes-de-Haute-Provence, Alsace, Alta Verapaz, Altamira, Altay, Altayskiy Kray, Altenkirchen, Alto Barinas, Alto Molócuè, Altona, Altötting, Altıeylül İlçesi, Altındağ, Altınordu, Alvorada, Alwar, Alxa Left Banner, Alxa Right Banner, Alytus, Alytus County, Alzey-Worms, Alīgarh, Al’met’yevsk, Amadi State, Amadora, Amagasaki, Amagasaki Shi, Amahlathi, Amaigbo, Amajuba District Municipality, Amajuba Municipality, Amanat Al Asimah, Amansie Central, Amansie West, Amapá, Amarapura, Amarillo, Amarnāth, Amasya, Amathole District Municipality, Amathole Municipality, Amazonas, Ambalavao, Ambato, Ambattūr, Ambedkar Nagar, Amber Valley, Amber Valley District, Amberg-Sulzbach, Ambon, Ambur, Ambāla, Americana, Amersfoort, Amhara, Amhara Region, Amherst, Amiens, Amman, Amman Governorate, Ammerland, Amoron'i Mania, Amoron'i Mania Region, Ampang, Ampara, Ampara District, Amphoe Ban Bueng, Amphoe Ban Pong, Amphoe Bang Bo, Amphoe Bang Bua Thong, Amphoe Bang Kruai, Amphoe Bang Pa-in, Amphoe Bang Pakong, Amphoe Bang Phli, Amphoe Bang Rakam, Amphoe Bang Sao Thong, Amphoe Bang Yai, Amphoe Chana, Amphoe Chum Phae, Amphoe Dan Khun Thot, Amphoe Det Udom, Amphoe Fang, Amphoe Hat Yai, Amphoe Hua Hin, Amphoe Kabin Buri, Amphoe Kaeng Khoi, Amphoe Kanchanadit, Amphoe Kantharalak, Amphoe Kathu, Amphoe Khanu Woralaksaburi, Amphoe Khlong Luang, Amphoe Khukhan, Amphoe Klaeng, Amphoe Kosum Phisai, Amphoe Krathum Baen, Amphoe Kumphawapi, Amphoe Lam Luk Ka, Amphoe Lam Plai Mat, Amphoe Lom Sak, Amphoe Mae Sot, Amphoe Mueang Amnat Charoen, Amphoe Mueang Buriram, Amphoe Mueang Chachoengsao, Amphoe Mueang Chaiyaphum, Amphoe Mueang Chanthaburi, Amphoe Mueang Chiang Mai, Amphoe Mueang Chiang Rai, Amphoe Mueang Chumphon, Amphoe Mueang Kalasin, Amphoe Mueang Kamphaeng Phet, Amphoe Mueang Kanchanaburi, Amphoe Mueang Khon Kaen, Amphoe Mueang Lampang, Amphoe Mueang Lamphun, Amphoe Mueang Loei, Amphoe Mueang Maha Sarakham, Amphoe Mueang Mukdahan, Amphoe Mueang Nakhon Pathom, Amphoe Mueang Nakhon Phanom, Amphoe Mueang Nakhon Ratchasima, Amphoe Mueang Nakhon Sawan, Amphoe Mueang Nakhon Si Thammarat, Amphoe Mueang Narathiwat, Amphoe Mueang Nong Bua Lamphu, Amphoe Mueang Nong Khai, Amphoe Mueang Nonthaburi, Amphoe Mueang Pathum Thani, Amphoe Mueang Pattani, Amphoe Mueang Phatthalung, Amphoe Mueang Phayao, Amphoe Mueang Phetchabun, Amphoe Mueang Phetchaburi, Amphoe Mueang Phichit, Amphoe Mueang Phitsanulok, Amphoe Mueang Phrae, Amphoe Mueang Phuket, Amphoe Mueang Prachin Buri, Amphoe Mueang Ranong, Amphoe Mueang Ratchaburi, Amphoe Mueang Rayong, Amphoe Mueang Roi Et, Amphoe Mueang Sa Kaeo, Amphoe Mueang Sakon Nakhon, Amphoe Mueang Samut Prakan, Amphoe Mueang Samut Sakhon, Amphoe Mueang Sara Buri, Amphoe Mueang Sisaket, Amphoe Mueang Songkhla, Amphoe Mueang Sukhothai, Amphoe Mueang Suphan Buri, Amphoe Mueang Surat Thani, Amphoe Mueang Surin, Amphoe Mueang Tak, Amphoe Mueang Trang, Amphoe Mueang Trat, Amphoe Mueang Ubon Ratchathani, Amphoe Mueang Udon Thani, Amphoe Mueang Uttaradit, Amphoe Mueang Yala, Amphoe Mueang Yasothon, Amphoe Nakhon Chai Si, Amphoe Nam Phong, Amphoe Non Sung, Amphoe Nong Khae, Amphoe Nong Phai, Amphoe Pak Chong, Amphoe Pak Kret, Amphoe Pak Thong Chai, Amphoe Phan, Amphoe Phanat Nikhom, Amphoe Phibun Mangsahan, Amphoe Phimai, Amphoe Photharam, Amphoe Phra Nakhon Si Ayutthaya, Amphoe Phra Pradaeng, Amphoe Phra Samut Chedi, Amphoe Phu Khiao, Amphoe Prakhon Chai, Amphoe Prasat, Amphoe Sadao, Amphoe Sam Phran, Amphoe San Sai, Amphoe Sangkha, Amphoe Sattahip, Amphoe Sawang Daen Din, Amphoe Si Bun Rueang, Amphoe Si Khoraphum, Amphoe Si Maha Phot, Amphoe Si Racha, Amphoe Sikhio, Amphoe Song Phi Nong, Amphoe Takhli, Amphoe Tha Maka, Amphoe Tha Muang, Amphoe Tha Sala, Amphoe Thalang, Amphoe Thanyaburi, Amphoe Thung Song, Amphoe Trakan Phuet Phon, Amphoe U Thong, Amphoe Wang Thong, Amphoe Wanon Niwat, Amphoe Warin Chamrap, Amphoe Wichian Buri, Amphoe Yang Talat, Amravati Division, Amreli, Amritsar, Amroha, Amrāvati, Amsterdam, Amurskaya Oblast’, An Clár, An Giang, An Mhí, An Najaf, An Nuhūd, An Nuqāţ al Khams, Anaco, Anaheim, Analamanga, Analamanga Region, Analanjirofo, Analanjirofo Region, Anambra State, Anand, Ananindeua, Anantapur, Anantnāg, Anbu, Ancash, Anchorage, Anchorage Municipality, Ancona, Anda, Andalucía, Andaman Islands, Anderlecht, Anderson, Anderson County, Andhra Pradesh, Andijan, Andijon, Andong, Andong-si, Andria, Androscoggin, Androscoggin County, Androy, Androy Region, Angarsk, Angarskiy Rayon, Angeles, Angeles City, Angers, Angola, Angono, Angra dos Reis, Angren, Angul, Angul District, Anguo Shi, Angus, Anhalt-Bitterfeld, Anhui Sheng, Anjozorobe, Anjō, Anjō-shi, Ankang, Ankara, Ann, Ann Arbor, Annaba, Anne Arundel, Anne Arundel County, Annecy, Anning Qu, Anning Shi, Anoka, Anoka County, Anosy, Anosy Region, Anqing, Anqiu, Ansan-si, Ansavo, Ansbach, Anseba, Anseba Region, Anseong, Anshan, Anshun, Antakya, Antakya İlçesi, Antalya, Antananarivo, Antananarivo Province, Antilles, Antioch, Antioquia, Antipolo, Antique, Antofagasta, Antrim and Newtownabbey, Antsirabe, Antwerpen, Anuradhapura, Anuradhapura District, Anxin Xian, Anyama, Anyang, Anyang-si, Anápolis, Aomori, Aomori Shi, Aomori-ken, Apalit, Aparecida de Goiânia, Apartadó, Apayao, Apeldoorn, Apopa, Apt, Apucarana, Apurimac, Aqmola Oblysy, Aquitaine, Ar Raqqah, Ar Rayyān, Ar-Raqqah Governorate, Arab Republic of Egypt, Araba / Álava, Arabia, Arabkir, Aracaju, Arad, Aragatsotni Marz, Aragon, Araguari, Araguaína, Aral, Aran, Arapahoe, Arapahoe County, Arapiraca, Arapongas, Arar, Araraquara, Araras, Ararati Marz, Araria, Araruama, Arauca, Araucária, Arayat, Araçatuba, Arbil, Arcahaie, Archway, Ardabīl, Ardahan, Ardennes, Ards and North Down, Arequipa, Arezzo, Arganzuela, Argentan, Argenteuil, Argentine Republic, Argeş, Arghākhānchī, Arica, Arish, Arivonimamo, Ariyalur, Arizona, Arjawinangun, Arkansas, Arkhangel’sk, Arkhangel’skaya Oblast’, Arles, Arlington, Arlington County, Armagh Banbridge and Craigavon, Armagh City Banbridge and Craigavon, Armavir, Armaviri Marz, Armenia, Arnavutköy, Arnhem, Arrah, Arras, Arrondissement d'Antony, Arrondissement d'Arcachon, Arrondissement d'Argenteuil, Arrondissement d'Istres, Arrondissement d'Épernay, Arrondissement d'Étampes, Arrondissement d'Évry, Arrondissement de Bainet, Arrondissement de Bayonne, Arrondissement de Beaune, Arrondissement de Beauvais, Arrondissement de Belfort, Arrondissement de Belley, Arrondissement de Bergerac, Arrondissement de Bernay, Arrondissement de Besançon, Arrondissement de Blois, Arrondissement de Bobigny, Arrondissement de Bonneville, Arrondissement de Bordeaux, Arrondissement de Boulogne-Billancourt, Arrondissement de Boulogne-sur-Mer, Arrondissement de Bourg-en-Bresse, Arrondissement de Bourges, Arrondissement de Bressuire, Arrondissement de Brest, Arrondissement de Briey, Arrondissement de Brignoles, Arrondissement de Brive-la-Gaillarde, Arrondissement de Béthune, Arrondissement de Béziers, Arrondissement de Caen, Arrondissement de Calais, Arrondissement de Cambrai, Arrondissement de Carcassonne, Arrondissement de Carpentras, Arrondissement de Castres, Arrondissement de Cayenne, Arrondissement de Chalon-sur-Saône, Arrondissement de Chambéry, Arrondissement de Charleville-Mézières, Arrondissement de Chartres, Arrondissement de Cherbourg, Arrondissement de Chinon, Arrondissement de Cholet, Arrondissement de Châlons-en-Champagne, Arrondissement de Châteaubriant, Arrondissement de Châteauroux, Arrondissement de Châtellerault, Arrondissement de Clermont, Arrondissement de Clermont-Ferrand, Arrondissement de Colmar-Ribeauvillé, Arrondissement de Compiègne, Arrondissement de Croix des Bouquets, Arrondissement de Créteil, Arrondissement de Céret, Arrondissement de Dax, Arrondissement de Dieppe, Arrondissement de Dijon, Arrondissement de Dinan, Arrondissement de Dole, Arrondissement de Douai, Arrondissement de Draguignan, Arrondissement de Dreux, Arrondissement de Dunkerque, Arrondissement de Fontainebleau, Arrondissement de Fontenay-le-Comte, Arrondissement de Forbach-Boulay-Moselle, Arrondissement de Fort-de-France, Arrondissement de Fougères-Vitré, Arrondissement de Gap, Arrondissement de Grasse, Arrondissement de Grenoble, Arrondissement de Guingamp, Arrondissement de Haguenau-Wissembourg, Arrondissement de Jacmel, Arrondissement de L'Haÿ-les-Roses, Arrondissement de La Flèche, Arrondissement de La Roche-sur-Yon, Arrondissement de La Rochelle, Arrondissement de La Tour-du-Pin, Arrondissement de Langon, Arrondissement de Laon, Arrondissement de Largentière, Arrondissement de Laval, Arrondissement de Lens, Arrondissement de Libourne, Arrondissement de Lille, Arrondissement de Limoges, Arrondissement de Lisieux, Arrondissement de Loches, Arrondissement de Lodève, Arrondissement de Lons-le-Saunier, Arrondissement de Lorient, Arrondissement de Lure, Arrondissement de Lyon, Arrondissement de Léogâne, Arrondissement de Mamers, Arrondissement de Mantes-la-Jolie, Arrondissement de Marseille, Arrondissement de Mayenne, Arrondissement de Meaux, Arrondissement de Melun, Arrondissement de Metz, Arrondissement de Metz-Campagne, Arrondissement de Molsheim, Arrondissement de Mont-de-Marsan, Arrondissement de Montargis, Arrondissement de Montauban, Arrondissement de Montbrison, Arrondissement de Montbéliard, Arrondissement de Montluçon, Arrondissement de Montreuil, Arrondissement de Morlaix, Arrondissement de Moulins, Arrondissement de Mulhouse, Arrondissement de Muret, Arrondissement de Mâcon, Arrondissement de Nancy, Arrondissement de Nanterre, Arrondissement de Nantes, Arrondissement de Narbonne, Arrondissement de Nevers, Arrondissement de Nice, Arrondissement de Niort, Arrondissement de Nogent-sur-Marne, Arrondissement de Nyons, Arrondissement de Nîmes, Arrondissement de Palaiseau, Arrondissement de Pau, Arrondissement de Perpignan, Arrondissement de Pointe-à-Pitre, Arrondissement de Poitiers, Arrondissement de Pontarlier, Arrondissement de Pontivy, Arrondissement de Pontoise, Arrondissement de Port-au-Prince, Arrondissement de Port-de-Paix, Arrondissement de Provins, Arrondissement de Périgueux, Arrondissement de Quimper, Arrondissement de Rambouillet, Arrondissement de Redon, Arrondissement de Reims, Arrondissement de Rennes, Arrondissement de Riom, Arrondissement de Roanne, Arrondissement de Rochefort, Arrondissement de Rodez, Arrondissement de Romorantin-Lanthenay, Arrondissement de Rouen, Arrondissement de Saint-Benoît, Arrondissement de Saint-Brieuc, Arrondissement de Saint-Denis, Arrondissement de Saint-Germain-en-Laye, Arrondissement de Saint-Julien-en-Genevois, Arrondissement de Saint-Lô, Arrondissement de Saint-Malo, Arrondissement de Saint-Marc, Arrondissement de Saint-Nazaire, Arrondissement de Saint-Omer, Arrondissement de Saint-Paul, Arrondissement de Saint-Pierre, Arrondissement de Saint-Quentin, Arrondissement de Saint-Étienne, Arrondissement de Saintes, Arrondissement de Sarcelles, Arrondissement de Saumur, Arrondissement de Saverne, Arrondissement de Senlis, Arrondissement de Sens, Arrondissement de Soissons, Arrondissement de Strasbourg, Arrondissement de Strasbourg-Campagne, Arrondissement de Sélestat-Erstein, Arrondissement de Tarbes, Arrondissement de Thann-Guebwiller, Arrondissement de Thionville, Arrondissement de Thionville-Ouest, Arrondissement de Thonon-les-Bains, Arrondissement de Torcy, Arrondissement de Toulon, Arrondissement de Toulouse, Arrondissement de Tournon-sur-Rhône, Arrondissement de Tours, Arrondissement de Troyes, Arrondissement de Valence, Arrondissement de Valenciennes, Arrondissement de Vannes, Arrondissement de Versailles, Arrondissement de Vesoul, Arrondissement de Vichy, Arrondissement de Vienne, Arrondissement de Villefranche-sur-Saône, Arrondissement de la Basse-Terre, Arrondissement des Cayes, Arrondissement des Sables-d'Olonne, Arrondissement du Havre, Arrondissement du Mans, Arrondissement du Marin, Arrondissement du Môle Saint-Nicolas, Arrondissement du Raincy, Arrondissement d’Ajaccio, Arrondissement d’Alès, Arrondissement d’Angoulême, Arrondissement d’Avignon, Arrondissement d’Orléans, Arrondissement d’Épinal, Arrondissement d’Évreux, Arrondissement of Châteaubriant-Ancenis, Arrondissement of Montpellier, Arroyo Naranjo, Arsi, Arsi Zone, Artemisa, Artuklu, Artvin, Artëm, Aruba Island, Arun, Arun District, Arunāchal Pradesh, Arusha, Arusha Region, Arvada, Arzamas, Arāk, As Sabain, As Samawah, As Sayyani, As Sulaymānīyah, As Suwayq, As Suways, As Sālimīyah, As-Suwayda Governorate, Asahikawa, Asahikawa-shi, Asaka, Asaka-shi, Asan-si, Asante Akim South, Asante Akim South District, Ascension Parish, Aschaffenburg, Ascoli Piceno, Ash Shaikh Outhman, Ash Sharqiyah South, Ash Shāriqah, Ashaiman, Ashanti, Ashanti Region, Ashdod, Ashfield, Ashfield District, Ashford, Ashford District, Ashgabat, Ashikaga, Ashikaga Shi, Ashkelon, Ashoknagar, Ashoknagar Kalyangarh, Ashtabula, Ashtabula County, Asia, Asmara, Asosa, Assaba, Assafi'yah, Assam, Assin South, Assis, Association of Southeast Asian Nations, Assoukhour Assawda, Astanajapura, Asti, Astoria, Astrakhan, Astrakhanskaya Oblast’, Asturias, Asunafo South, Asunción, Asuogyaman, Aswan, Asyūţ, At Ta‘izzīyah, Atakora Department, Atakum, Atani, Ataşehir, Atbara, Atebubu-Amantin\n"
     ]
    }
   ],
   "source": [
    "print(translations[0].text)"
   ]
  },
  {
   "cell_type": "code",
   "execution_count": null,
   "id": "99018a69-45e5-4ae8-bc30-d3f982dd04e1",
   "metadata": {},
   "outputs": [],
   "source": [
    "trans_dict = {\"GPE\" : translations}\n",
    "trans_json = json.dumps(trans_dict)\n",
    "\n",
    "with open(target_path, \"w\") as write_file:\n",
    "    write_file.write(trans_json)"
   ]
  },
  {
   "cell_type": "code",
   "execution_count": null,
   "id": "ab4ecfd6-f5f2-4193-b14c-c8c4c788d3f3",
   "metadata": {},
   "outputs": [],
   "source": []
  }
 ],
 "metadata": {
  "kernelspec": {
   "display_name": "Python 3",
   "language": "python",
   "name": "python3"
  },
  "language_info": {
   "codemirror_mode": {
    "name": "ipython",
    "version": 3
   },
   "file_extension": ".py",
   "mimetype": "text/x-python",
   "name": "python",
   "nbconvert_exporter": "python",
   "pygments_lexer": "ipython3",
   "version": "3.9.4"
  }
 },
 "nbformat": 4,
 "nbformat_minor": 5
}
