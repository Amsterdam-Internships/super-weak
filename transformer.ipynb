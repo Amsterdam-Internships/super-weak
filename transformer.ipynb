{
 "cells": [
  {
   "cell_type": "code",
   "execution_count": null,
   "id": "5262df5b-9a32-447e-b56d-1d4d6c930c26",
   "metadata": {},
   "outputs": [],
   "source": [
    "from googletrans import Translator\n",
    "import json\n",
    "\n",
    "json_path = \"data/geonames.json\"\n",
    "target_path = \"data/trans_geonames.json\"\n",
    "\n",
    "#this thing will translate any JSON file you specify\n",
    "\n",
    "#constraints - googletrans lib will only accept 15k characters at a time..."
   ]
  },
  {
   "cell_type": "code",
   "execution_count": null,
   "id": "d43f9149-d4ee-40b4-a3ae-180582dbde30",
   "metadata": {},
   "outputs": [],
   "source": [
    "#load file into python list\n",
    "with open(json_path, 'r') as json_file:\n",
    "    content = json.loads(json_file.read())[\"GPE\"]\n",
    "\n",
    "string = \"Noord-Holland\"\n",
    "for token in content:\n",
    "    if string in token:\n",
    "        print(\"match: \", token)\n",
    "\n",
    "# #function that combines tokens from content list into strings of max length 15k tokens\n",
    "# def stringify(tokens: list, counter = 0):\n",
    "#     output = []\n",
    "#     temp = \"\"\n",
    "#     temp_len = 0\n",
    "#     while temp_len < 15000 and counter < len(tokens):\n",
    "#         token = tokens[counter]\n",
    "#         token_len = len(token)\n",
    "#         if temp_len + token_len > 15000:\n",
    "#             break\n",
    "#         else:\n",
    "#             if temp_len > 0:\n",
    "#                 temp = temp + \", \" + token\n",
    "#             else:\n",
    "#                 temp = token\n",
    "#             temp_len += len(token)\n",
    "#             counter += 1\n",
    "\n",
    "#     return temp, counter\n",
    "        \n",
    "# def stringify_all(tokens: list, counter = 0):\n",
    "#     output = []\n",
    "#     while counter < len(tokens):\n",
    "#         string, counter = stringify(tokens, counter)\n",
    "#         output.append(string)\n",
    "    \n",
    "#     return output\n",
    "        \n",
    "# stuff = stringify_all(content)\n",
    "\n",
    "# #now let's translate it\n",
    "# translator = Translator()\n",
    "# translations = translator.translate(stuff, src = \"EN\", dest = \"NL\")"
   ]
  },
  {
   "cell_type": "code",
   "execution_count": null,
   "id": "b9a12972-fec4-45d1-9973-4491e9a3d8de",
   "metadata": {},
   "outputs": [],
   "source": [
    "print(translations[0].text)"
   ]
  },
  {
   "cell_type": "code",
   "execution_count": null,
   "id": "99018a69-45e5-4ae8-bc30-d3f982dd04e1",
   "metadata": {},
   "outputs": [],
   "source": [
    "trans_dict = {\"GPE\" : translations}\n",
    "trans_json = json.dumps(trans_dict)\n",
    "\n",
    "with open(target_path, \"w\") as write_file:\n",
    "    write_file.write(trans_json)"
   ]
  },
  {
   "cell_type": "code",
   "execution_count": null,
   "id": "ab4ecfd6-f5f2-4193-b14c-c8c4c788d3f3",
   "metadata": {},
   "outputs": [],
   "source": []
  }
 ],
 "metadata": {
  "kernelspec": {
   "display_name": "Python 3",
   "language": "python",
   "name": "python3"
  },
  "language_info": {
   "codemirror_mode": {
    "name": "ipython",
    "version": 3
   },
   "file_extension": ".py",
   "mimetype": "text/x-python",
   "name": "python",
   "nbconvert_exporter": "python",
   "pygments_lexer": "ipython3",
   "version": "3.8.5"
  }
 },
 "nbformat": 4,
 "nbformat_minor": 5
}
