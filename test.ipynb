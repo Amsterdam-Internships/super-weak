{
 "cells": [
  {
   "cell_type": "code",
   "execution_count": null,
   "id": "noble-letter",
   "metadata": {},
   "outputs": [],
   "source": [
    "import spacy\n",
    "import os\n",
    "import sys\n",
    "data_path = \"data/wablieft/text/plain/\"\n",
    "sys.path.insert(0, \"./skweak_git\")\n",
    "import skweak"
   ]
  },
  {
   "cell_type": "code",
   "execution_count": null,
   "id": "electrical-harassment",
   "metadata": {},
   "outputs": [],
   "source": [
    "files = [file for file in os.listdir(data_path)]\n",
    "texts = []\n",
    "for file in files:\n",
    "    with open(data_path + file, \"r\", encoding=\"cp850\") as file_text:\n",
    "        texts.append(file_text.read())"
   ]
  },
  {
   "cell_type": "code",
   "execution_count": null,
   "id": "discrete-context",
   "metadata": {},
   "outputs": [],
   "source": [
    "nlp = spacy.load(\"nl_core_news_md\")\n",
    "docs = list(nlp.pipe(texts))"
   ]
  },
  {
   "cell_type": "code",
   "execution_count": null,
   "id": "administrative-african",
   "metadata": {},
   "outputs": [],
   "source": [
    "doc = docs[34]"
   ]
  },
  {
   "cell_type": "code",
   "execution_count": null,
   "id": "labeled-intervention",
   "metadata": {},
   "outputs": [],
   "source": [
    "def url_detector_fn(doc):\n",
    "    for token in doc: \n",
    "        if \".\" in token.text and not token.is_punct:\n",
    "            yield token.i, token.i+1, \"URL\"\n",
    "        \n",
    "url_detector = skweak.heuristics.FunctionAnnotator(\"url_detector\", url_detector_fn)\n",
    "\n",
    "def number_detector_fn(doc):\n",
    "    for token in doc:\n",
    "        if token.is_digit:\n",
    "            yield token.i, token.i+1, \"Digit\"\n",
    "\n",
    "number_detector = skweak.heuristics.FunctionAnnotator(\"number_detector\", number_detector_fn)"
   ]
  },
  {
   "cell_type": "code",
   "execution_count": null,
   "id": "detailed-bradley",
   "metadata": {},
   "outputs": [],
   "source": [
    "doc = number_detector(url_detector(doc))\n",
    "hmm = skweak.aggregation.HMM(\"hmm\", [\"URL\", \"DIGIT\"])\n",
    "hmm.fit_and_aggregate([doc])\n",
    "skweak.utils.display_entities(doc, \"hmm\")"
   ]
  },
  {
   "cell_type": "code",
   "execution_count": 2,
   "id": "worse-theater",
   "metadata": {},
   "outputs": [
    {
     "name": "stdout",
     "output_type": "stream",
     "text": [
      "Starting iteration 1\n",
      "Finished E-step with 1 documents\n",
      "Starting iteration 2\n",
      "Finished E-step with 1 documents\n"
     ]
    },
    {
     "name": "stderr",
     "output_type": "stream",
     "text": [
      "         1         -18.9513             +nan\n",
      "         2         -19.0673          -0.1160\n"
     ]
    },
    {
     "data": {
      "text/html": [
       "<span class=\"tex2jax_ignore\"><style>\n",
       ".tooltip {  position: relative;  border-bottom: 1px dotted black; }\n",
       ".tooltip .tooltip-text {visibility: hidden;  background-color: black;  color: white;\n",
       "                        line-height: 1.2;  text-align: right;  border-radius: 6px;\n",
       "                        padding: 5px 0; position: absolute; z-index: 1; margin-left:1em;\n",
       "                        opacity: 0; transition: opacity 1s;}\n",
       ".tooltip .tooltip-text::after {position: absolute; top: 1.5em; right: 100%; margin-top: -5px;\n",
       "                               border-width: 5px; border-style: solid; \n",
       "                               border-color: transparent black transparent transparent;}\n",
       ".tooltip:hover .tooltip-text {visibility: visible; opacity: 1;}\n",
       "</style>\n",
       "<div class=\"entities\" style=\"line-height: 2.5; direction: ltr\">\n",
       "<mark class=\"entity\" style=\"background: #aa9cfc; padding: 0.45em 0.6em; margin: 0 0.25em; line-height: 1; border-radius: 0.35em;\">\n",
       "    <label class='tooltip'>Donald<span class='tooltip-text' style='width:203px'>presidents:\tPERSON&nbsp;&nbsp</span></label> <label class='tooltip'>Trump<span class='tooltip-text' style='width:203px'>presidents:\tPERSON&nbsp;&nbsp</span></label>\n",
       "    <span style=\"font-size: 0.8em; font-weight: bold; line-height: 1; border-radius: 0.35em; vertical-align: middle; margin-left: 0.5rem\">PERSON</span>\n",
       "</mark>\n",
       " paid \n",
       "<mark class=\"entity\" style=\"background: #e4e7d2; padding: 0.45em 0.6em; margin: 0 0.25em; line-height: 1; border-radius: 0.35em;\">\n",
       "    <label class='tooltip'>$<span class='tooltip-text' style='width:161px'>money:\tMONEY&nbsp;&nbsp</span></label><label class='tooltip'>750<span class='tooltip-text' style='width:161px'>money:\tMONEY&nbsp;&nbsp</span></label>\n",
       "    <span style=\"font-size: 0.8em; font-weight: bold; line-height: 1; border-radius: 0.35em; vertical-align: middle; margin-left: 0.5rem\">MONEY</span>\n",
       "</mark>\n",
       " in federal income taxes in \n",
       "<mark class=\"entity\" style=\"background: #bfe1d9; padding: 0.45em 0.6em; margin: 0 0.25em; line-height: 1; border-radius: 0.35em;\">\n",
       "    <label class='tooltip'>2016<span class='tooltip-text' style='width:154px'>years:\tDATE&nbsp;&nbsp</span></label>\n",
       "    <span style=\"font-size: 0.8em; font-weight: bold; line-height: 1; border-radius: 0.35em; vertical-align: middle; margin-left: 0.5rem\">DATE</span>\n",
       "</mark>\n",
       "</div></span>"
      ],
      "text/plain": [
       "<IPython.core.display.HTML object>"
      ]
     },
     "metadata": {},
     "output_type": "display_data"
    }
   ],
   "source": [
    "import spacy, re\n",
    "from skweak import heuristics, gazetteers, aggregation, utils\n",
    "\n",
    "# LF 1: heuristic to detect occurrences of MONEY entities\n",
    "def money_detector(doc):\n",
    "    for tok in doc[1:]:\n",
    "        if tok.text[0].isdigit() and tok.nbor(-1).is_currency:\n",
    "            yield tok.i-1, tok.i+1, \"MONEY\"\n",
    "lf1 = heuristics.FunctionAnnotator(\"money\", money_detector)\n",
    "\n",
    "# LF 2: detection of years with a regex\n",
    "lf2= heuristics.TokenConstraintAnnotator (\"years\", lambda tok: re.match(\"(19|20)\\d{2}$\", tok.text), \"DATE\")\n",
    "\n",
    "# LF 3: a gazetteer with a few names\n",
    "NAMES = [(\"Barack\", \"Obama\"), (\"Donald\", \"Trump\"), (\"Joe\", \"Biden\")]\n",
    "trie = gazetteers.Trie(NAMES)\n",
    "lf3 = gazetteers.GazetteerAnnotator(\"presidents\", {\"PERSON\":trie})\n",
    "\n",
    "# We create a corpus (here with a single text)\n",
    "nlp = spacy.load(\"en_core_web_sm\")\n",
    "doc = nlp(\"Donald Trump paid $750 in federal income taxes in 2016\")\n",
    "\n",
    "# apply the labelling functions\n",
    "doc = lf3(lf2(lf1(doc)))\n",
    "\n",
    "# and aggregate them\n",
    "hmm = aggregation.HMM(\"hmm\", [\"PERSON\", \"DATE\", \"MONEY\"])\n",
    "hmm.fit_and_aggregate([doc])\n",
    "\n",
    "# we can then visualise the final result (in Jupyter)\n",
    "utils.display_entities(doc, \"hmm\")"
   ]
  },
  {
   "cell_type": "code",
   "execution_count": null,
   "id": "initial-mouse",
   "metadata": {},
   "outputs": [],
   "source": []
  }
 ],
 "metadata": {
  "kernelspec": {
   "display_name": "Python 3",
   "language": "python",
   "name": "python3"
  },
  "language_info": {
   "codemirror_mode": {
    "name": "ipython",
    "version": 3
   },
   "file_extension": ".py",
   "mimetype": "text/x-python",
   "name": "python",
   "nbconvert_exporter": "python",
   "pygments_lexer": "ipython3",
   "version": "3.8.5"
  }
 },
 "nbformat": 4,
 "nbformat_minor": 5
}
