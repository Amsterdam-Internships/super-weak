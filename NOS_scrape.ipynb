{
 "cells": [
  {
   "cell_type": "code",
   "execution_count": 57,
   "id": "rental-pizza",
   "metadata": {},
   "outputs": [],
   "source": [
    "from bs4 import BeautifulSoup\n",
    "from os import listdir\n",
    "import regex as re\n",
    "import tqdm\n",
    "import pickle"
   ]
  },
  {
   "cell_type": "code",
   "execution_count": 55,
   "id": "interesting-korean",
   "metadata": {},
   "outputs": [],
   "source": [
    "path = \"data/nos/feeds.nos.nl/nosnieuwsalgemeen\""
   ]
  },
  {
   "cell_type": "code",
   "execution_count": null,
   "id": "simplified-space",
   "metadata": {},
   "outputs": [],
   "source": [
    "def process_page(file):\n",
    "    page_dict = {}\n",
    "\n",
    "    with open(file, \"r\", encoding = \"utf8\") as page: \n",
    "        texts = []\n",
    "        tok_count = 0\n",
    "        soup = BeautifulSoup(page, \"lxml\")\n",
    "        content = soup.find_all(\"description\")\n",
    "        for piece in content[1:]:\n",
    "            text = piece.get_text()\n",
    "            text = re.sub(\">|}|]\", \"\", text)\n",
    "            if text != \"\":\n",
    "                texts.append(text)\n",
    "                tok_count += len(text.split(\" \"))\n",
    "        \n",
    "        page_dict[\"tokens\"] = tok_count\n",
    "        page_dict[\"docs\"] = len(texts)\n",
    "        page_dict[\"texts\"] = texts\n",
    "    \n",
    "    return page_dict if page_dict[\"texts\"] != [] else None\n",
    "\n",
    "def combine(dict_a, dict_b):\n",
    "    dict_a[\"tokens\"] += dict_b[\"tokens\"]\n",
    "    dict_a[\"docs\"] += dict_b[\"docs\"]\n",
    "    dict_a[\"texts\"] += dict_b[\"texts\"]\n",
    "    return dict_a\n",
    "\n",
    "def process_dir(path):\n",
    "    files = [path + \"/\" +file for file in listdir(path)]\n",
    "    d = process_page(files[0])\n",
    "    for file in tqdm.notebook.tqdm(files[1:]):\n",
    "        processed_file = process_page(file)\n",
    "        if processed_file: \n",
    "            combine(d, processed_file)\n",
    "    \n",
    "    print(\"Processed\", d[\"docs\"], \"docs, resulting in\", d[\"tokens\"], \"tokens.\")\n",
    "    return d\n",
    "        \n",
    "processed = process_dir(path)"
   ]
  },
  {
   "cell_type": "code",
   "execution_count": 58,
   "id": "muslim-shade",
   "metadata": {},
   "outputs": [],
   "source": [
    "with open(\"nos.pkl\", \"wb\") as file:\n",
    "    pickle.dump(processed, file)"
   ]
  }
 ],
 "metadata": {
  "kernelspec": {
   "display_name": "Python 3",
   "language": "python",
   "name": "python3"
  },
  "language_info": {
   "codemirror_mode": {
    "name": "ipython",
    "version": 3
   },
   "file_extension": ".py",
   "mimetype": "text/x-python",
   "name": "python",
   "nbconvert_exporter": "python",
   "pygments_lexer": "ipython3",
   "version": "3.8.5"
  }
 },
 "nbformat": 4,
 "nbformat_minor": 5
}
