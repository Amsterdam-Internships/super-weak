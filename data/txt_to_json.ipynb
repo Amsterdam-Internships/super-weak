{
 "cells": [
  {
   "cell_type": "code",
   "execution_count": null,
   "id": "047bdb1a-44d8-4a9b-b68a-ffbd5344d7b6",
   "metadata": {},
   "outputs": [],
   "source": [
    "import json\n",
    "import pandas as pd\n",
    "\n",
    "file_path = \"NL.txt\"\n",
    "target_path = \"nl.json\""
   ]
  },
  {
   "cell_type": "code",
   "execution_count": null,
   "id": "91917033-d249-4e98-9009-fd082d35c6bb",
   "metadata": {},
   "outputs": [],
   "source": [
    "df = pd.read_csv(file_path, delimiter = '\\t')"
   ]
  },
  {
   "cell_type": "code",
   "execution_count": null,
   "id": "31e2a28a-be23-49bb-9d04-d9db142a6836",
   "metadata": {},
   "outputs": [],
   "source": [
    "d = {\"LOC\" : list(df[\"Den Oord\"].values)}"
   ]
  },
  {
   "cell_type": "code",
   "execution_count": null,
   "id": "4a2a9956-96be-496a-a429-2d12b40542d3",
   "metadata": {},
   "outputs": [],
   "source": [
    "json_string = json.dumps(d)\n",
    "with open(target_path, \"w\") as write_file:\n",
    "    write_file.write(json_string)"
   ]
  }
 ],
 "metadata": {
  "kernelspec": {
   "display_name": "Python 3",
   "language": "python",
   "name": "python3"
  },
  "language_info": {
   "codemirror_mode": {
    "name": "ipython",
    "version": 3
   },
   "file_extension": ".py",
   "mimetype": "text/x-python",
   "name": "python",
   "nbconvert_exporter": "python",
   "pygments_lexer": "ipython3",
   "version": "3.9.4"
  }
 },
 "nbformat": 4,
 "nbformat_minor": 5
}
