{
 "cells": [
  {
   "cell_type": "code",
   "execution_count": 15,
   "id": "center-north",
   "metadata": {},
   "outputs": [],
   "source": [
    "import bz2\n",
    "import pickle\n",
    "from datasets import Dataset, ClassLabel, Sequence"
   ]
  },
  {
   "cell_type": "code",
   "execution_count": 16,
   "id": "composed-algorithm",
   "metadata": {},
   "outputs": [],
   "source": [
    "path = \"data/nos.bz2\""
   ]
  },
  {
   "cell_type": "code",
   "execution_count": 19,
   "id": "magnetic-newman",
   "metadata": {},
   "outputs": [],
   "source": [
    "with bz2.open(path, \"rb\") as file:\n",
    "  dataset = pickle.load(file)"
   ]
  },
  {
   "cell_type": "code",
   "execution_count": 20,
   "id": "special-vienna",
   "metadata": {},
   "outputs": [
    {
     "data": {
      "text/plain": [
       "Dataset({\n",
       "    features: ['ids', 'ner_tags', 'tokens'],\n",
       "    num_rows: 5897\n",
       "})"
      ]
     },
     "execution_count": 20,
     "metadata": {},
     "output_type": "execute_result"
    }
   ],
   "source": [
    "dataset"
   ]
  }
 ],
 "metadata": {
  "kernelspec": {
   "display_name": "Python 3",
   "language": "python",
   "name": "python3"
  },
  "language_info": {
   "codemirror_mode": {
    "name": "ipython",
    "version": 3
   },
   "file_extension": ".py",
   "mimetype": "text/x-python",
   "name": "python",
   "nbconvert_exporter": "python",
   "pygments_lexer": "ipython3",
   "version": "3.8.5"
  }
 },
 "nbformat": 4,
 "nbformat_minor": 5
}
