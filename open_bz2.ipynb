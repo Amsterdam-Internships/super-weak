{
 "cells": [
  {
   "cell_type": "code",
   "execution_count": 1,
   "id": "center-north",
   "metadata": {},
   "outputs": [],
   "source": [
    "import bz2\n",
    "import pickle\n",
    "from datasets import Dataset, ClassLabel, Sequence"
   ]
  },
  {
   "cell_type": "code",
   "execution_count": 2,
   "id": "composed-algorithm",
   "metadata": {},
   "outputs": [],
   "source": [
    "path = \"data/nos.bz2\""
   ]
  },
  {
   "cell_type": "code",
   "execution_count": 3,
   "id": "magnetic-newman",
   "metadata": {},
   "outputs": [],
   "source": [
    "with bz2.open(path, \"rb\") as file:\n",
    "  dataset = pickle.load(file)"
   ]
  },
  {
   "cell_type": "code",
   "execution_count": 5,
   "id": "special-vienna",
   "metadata": {},
   "outputs": [
    {
     "name": "stdout",
     "output_type": "stream",
     "text": [
      "{'ids': '0', 'ner_tags': [0, 0, 7, 0, 0, 1, 0, 0, 0, 0, 0, 0, 0, 0, 0, 0, 0, 0, 0, 0, 0, 0, 0, 0, 0, 0, 0, 0, 0, 0, 0, 0, 0, 0, 0, 0, 0, 0, 0, 0, 0], 'tokens': ['In', 'de', 'Mexicaanse', 'stad', 'Ciudad', 'Juárez', 'hebben', 'gewapende', 'mannen', 'een', 'bloedbad', 'aangericht', 'onder', 'feestende', 'scholieren', '.', 'De', 'circa', '15', 'schutters', 'kwamen', 'aanrijden', 'in', \"SUV's\", ',', 'gingen', 'de', 'woning', 'binnen', 'waar', 'het', 'verjaardagsfeest', 'aan', 'de', 'gang', 'was', 'en', 'beschoten', 'de', 'aanwezigen', '.']}\n"
     ]
    }
   ],
   "source": [
    "print(dataset[0])"
   ]
  },
  {
   "cell_type": "code",
   "execution_count": null,
   "id": "amazing-azerbaijan",
   "metadata": {},
   "outputs": [],
   "source": []
  }
 ],
 "metadata": {
  "kernelspec": {
   "display_name": "Python 3",
   "language": "python",
   "name": "python3"
  },
  "language_info": {
   "codemirror_mode": {
    "name": "ipython",
    "version": 3
   },
   "file_extension": ".py",
   "mimetype": "text/x-python",
   "name": "python",
   "nbconvert_exporter": "python",
   "pygments_lexer": "ipython3",
   "version": "3.8.5"
  }
 },
 "nbformat": 4,
 "nbformat_minor": 5
}
